{
 "cells": [
  {
   "cell_type": "markdown",
   "id": "3b5969cf-61dd-4c3f-bc6c-195f3f196a5a",
   "metadata": {},
   "source": [
    "<h1>Webpage outline script</h1>"
   ]
  },
  {
   "cell_type": "markdown",
   "id": "e95f26a6-f6a2-4524-b230-df00cc5fffc9",
   "metadata": {},
   "source": [
    "This script makes an outline of a webpage."
   ]
  },
  {
   "cell_type": "markdown",
   "id": "b52d420b-85a3-4b7b-b825-f05787bb1a32",
   "metadata": {},
   "source": [
    "<h3>Install and load libraries:</h3>"
   ]
  },
  {
   "cell_type": "code",
   "execution_count": null,
   "id": "ba237252-2558-4fc3-ba2a-630e74ccf72b",
   "metadata": {},
   "outputs": [],
   "source": [
    "! pip install requests\n",
    "! pip install pandas\n",
    "! pip install bs4\n",
    "! pip install html5lib"
   ]
  },
  {
   "cell_type": "code",
   "execution_count": null,
   "id": "bba6f49b-def3-4920-8304-4a6a23e15bc1",
   "metadata": {
    "tags": []
   },
   "outputs": [],
   "source": [
    "import requests\n",
    "import pandas as pd\n",
    "from bs4 import BeautifulSoup"
   ]
  },
  {
   "cell_type": "markdown",
   "id": "27eca9da-6d32-41a3-9144-80400016aeda",
   "metadata": {},
   "source": [
    "<h3>Enter the webpage's URL here:</h3>"
   ]
  },
  {
   "cell_type": "code",
   "execution_count": null,
   "id": "93715636-ddbb-4664-83f9-e50c5ef5df5d",
   "metadata": {},
   "outputs": [],
   "source": [
    "url = \"https://www.healthline.com/nutrition/healthiest-beans-legumes\""
   ]
  },
  {
   "cell_type": "markdown",
   "id": "40d238ca-27dd-4b25-bc59-4d82fe990983",
   "metadata": {},
   "source": [
    "<h3>Then run the rest of the page.</h3>"
   ]
  },
  {
   "cell_type": "code",
   "execution_count": null,
   "id": "ef459d58-c765-4bb3-9ba2-927715b750ea",
   "metadata": {},
   "outputs": [],
   "source": [
    "#Acquire and process the page's html:\n",
    "html = requests.get(url).text\n",
    "soup = BeautifulSoup(html, 'html5lib')\n",
    "\n",
    "#Create a dataframe to hold all the headings, in order:\n",
    "title = soup.title.contents[0]\n",
    "headings = pd.DataFrame(columns = [\"Level\", \"Text\"])\n",
    "level = []\n",
    "text = []\n",
    "hs = soup.find_all(['h1', 'h2', 'h3', 'h4', 'h5'])\n",
    "for h in hs:\n",
    "    level.append(h.name)\n",
    "    t = h.contents[0]\n",
    "    while t.name != None:\n",
    "        t = t.contents[0]\n",
    "    text.append(t)\n",
    "\n",
    "headings = pd.DataFrame({\"Level\":level, \"Text\":text})\n",
    "\n",
    "#Make the summary:\n",
    "print(\"Website:\", title, \"\\n\")\n",
    "for ind in headings.index:\n",
    "    level = headings['Level'][ind]\n",
    "    if level == 'h1':\n",
    "        space = \"  \"\n",
    "    elif level == 'h2':\n",
    "        space = \"    \"\n",
    "    elif level == 'h3':\n",
    "        space = \"       \"\n",
    "    elif level == 'h4':\n",
    "        space = \"          \"\n",
    "    elif level == 'h5':\n",
    "        space = \"             \"\n",
    "    print(space, headings['Text'][ind])\n"
   ]
  }
 ],
 "metadata": {
  "kernelspec": {
   "display_name": "Python 3 (ipykernel)",
   "language": "python",
   "name": "python3"
  },
  "language_info": {
   "codemirror_mode": {
    "name": "ipython",
    "version": 3
   },
   "file_extension": ".py",
   "mimetype": "text/x-python",
   "name": "python",
   "nbconvert_exporter": "python",
   "pygments_lexer": "ipython3",
   "version": "3.10.6"
  }
 },
 "nbformat": 4,
 "nbformat_minor": 5
}
