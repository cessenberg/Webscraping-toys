{
 "cells": [
  {
   "cell_type": "markdown",
   "id": "4f0c0b9a-2386-4e51-94b5-084a71b4db3c",
   "metadata": {},
   "source": [
    "<h1>Webpage links grabber</h1>\n",
    "This script grabs all of the links from a webpage and lists them"
   ]
  },
  {
   "cell_type": "markdown",
   "id": "d2376cb8-3f76-43e1-8d3a-c7d0af8961cd",
   "metadata": {},
   "source": [
    "<h3>Install and load required libraries</h3>"
   ]
  },
  {
   "cell_type": "code",
   "execution_count": 2,
   "id": "281edacc-e05f-42a5-9893-a0a6551c5c1f",
   "metadata": {},
   "outputs": [
    {
     "name": "stdout",
     "output_type": "stream",
     "text": [
      "Requirement already satisfied: requests in c:\\users\\cessenbe\\appdata\\local\\programs\\python\\python310\\lib\\site-packages (2.28.2)\n",
      "Requirement already satisfied: charset-normalizer<4,>=2 in c:\\users\\cessenbe\\appdata\\local\\programs\\python\\python310\\lib\\site-packages (from requests) (2.1.1)\n",
      "Requirement already satisfied: idna<4,>=2.5 in c:\\users\\cessenbe\\appdata\\local\\programs\\python\\python310\\lib\\site-packages (from requests) (3.3)\n",
      "Requirement already satisfied: urllib3<1.27,>=1.21.1 in c:\\users\\cessenbe\\appdata\\local\\programs\\python\\python310\\lib\\site-packages (from requests) (1.26.12)\n",
      "Requirement already satisfied: certifi>=2017.4.17 in c:\\users\\cessenbe\\appdata\\local\\programs\\python\\python310\\lib\\site-packages (from requests) (2022.6.15)\n",
      "Requirement already satisfied: pandas in c:\\users\\cessenbe\\appdata\\local\\programs\\python\\python310\\lib\\site-packages (1.5.3)\n",
      "Requirement already satisfied: python-dateutil>=2.8.1 in c:\\users\\cessenbe\\appdata\\local\\programs\\python\\python310\\lib\\site-packages (from pandas) (2.8.2)\n",
      "Requirement already satisfied: numpy>=1.21.0 in c:\\users\\cessenbe\\appdata\\local\\programs\\python\\python310\\lib\\site-packages (from pandas) (1.23.2)\n",
      "Requirement already satisfied: pytz>=2020.1 in c:\\users\\cessenbe\\appdata\\local\\programs\\python\\python310\\lib\\site-packages (from pandas) (2022.2.1)\n",
      "Requirement already satisfied: six>=1.5 in c:\\users\\cessenbe\\appdata\\local\\programs\\python\\python310\\lib\\site-packages (from python-dateutil>=2.8.1->pandas) (1.16.0)\n",
      "Collecting bs4\n",
      "  Downloading bs4-0.0.1.tar.gz (1.1 kB)\n",
      "  Preparing metadata (setup.py): started\n",
      "  Preparing metadata (setup.py): finished with status 'done'\n",
      "Collecting beautifulsoup4\n",
      "  Downloading beautifulsoup4-4.11.2-py3-none-any.whl (129 kB)\n",
      "     -------------------------------------- 129.4/129.4 kB 2.5 MB/s eta 0:00:00\n",
      "Requirement already satisfied: soupsieve>1.2 in c:\\users\\cessenbe\\appdata\\local\\programs\\python\\python310\\lib\\site-packages (from beautifulsoup4->bs4) (2.3.2.post1)\n",
      "Installing collected packages: beautifulsoup4, bs4\n",
      "  Running setup.py install for bs4: started\n",
      "  Running setup.py install for bs4: finished with status 'done'\n",
      "Successfully installed beautifulsoup4-4.11.2 bs4-0.0.1\n"
     ]
    },
    {
     "name": "stderr",
     "output_type": "stream",
     "text": [
      "  DEPRECATION: bs4 is being installed using the legacy 'setup.py install' method, because it does not have a 'pyproject.toml' and the 'wheel' package is not installed. pip 23.1 will enforce this behaviour change. A possible replacement is to enable the '--use-pep517' option. Discussion can be found at https://github.com/pypa/pip/issues/8559\n"
     ]
    },
    {
     "name": "stdout",
     "output_type": "stream",
     "text": [
      "Requirement already satisfied: html5lib in c:\\users\\cessenbe\\appdata\\local\\programs\\python\\python310\\lib\\site-packages (1.1)\n",
      "Requirement already satisfied: webencodings in c:\\users\\cessenbe\\appdata\\local\\programs\\python\\python310\\lib\\site-packages (from html5lib) (0.5.1)\n",
      "Requirement already satisfied: six>=1.9 in c:\\users\\cessenbe\\appdata\\local\\programs\\python\\python310\\lib\\site-packages (from html5lib) (1.16.0)\n"
     ]
    }
   ],
   "source": [
    "#Install required libraries:\n",
    "! pip install requests\n",
    "! pip install pandas\n",
    "! pip install bs4\n",
    "! pip install html5lib"
   ]
  },
  {
   "cell_type": "code",
   "execution_count": 3,
   "id": "e12e5106-a2a1-4c02-aa60-b82f9e0ca4c0",
   "metadata": {},
   "outputs": [],
   "source": [
    "#Load the required libraries:\n",
    "import requests\n",
    "import pandas as pd\n",
    "from bs4 import BeautifulSoup\n",
    "#Make sure you have also installed html5lib"
   ]
  },
  {
   "cell_type": "markdown",
   "id": "e5c94a8f-ff5c-4da0-a7a5-0acac3e15d7b",
   "metadata": {},
   "source": [
    "<h3>Put the webpage's URL here:</h3>"
   ]
  },
  {
   "cell_type": "code",
   "execution_count": 5,
   "id": "f0f029bb-d29c-4800-a94c-92f3659651c6",
   "metadata": {},
   "outputs": [],
   "source": [
    "url = \"https://en.wikipedia.org/wiki/Bombus_affinis\""
   ]
  },
  {
   "cell_type": "markdown",
   "id": "01f2479f-4c06-411c-a947-82157fd8589e",
   "metadata": {},
   "source": [
    "<h3>Then run the rest of the code:</h3>"
   ]
  },
  {
   "cell_type": "code",
   "execution_count": 6,
   "id": "56551a1c-f2fb-43e6-ae5f-34661f7dbfeb",
   "metadata": {},
   "outputs": [
    {
     "name": "stdout",
     "output_type": "stream",
     "text": [
      "https://creativecommons.org/licenses/by-sa/3.0/\n",
      "https://en.wikipedia.org/wiki/Bombus_affinis\n",
      "https://donate.wikimedia.org/wiki/Special:FundraiserRedirector?utm_source=donate&utm_medium=sidebar&utm_campaign=C13_en.wikipedia.org&uselang=en\n",
      "https://www.wikidata.org/wiki/Special:EntityPage/Q2297570\n",
      "https://commons.wikimedia.org/wiki/Category:Bombus_affinis\n",
      "https://species.wikimedia.org/wiki/Bombus_affinis\n",
      "https://ceb.wikipedia.org/wiki/Bombus_affinis\n",
      "https://es.wikipedia.org/wiki/Bombus_affinis\n",
      "https://fr.wikipedia.org/wiki/Bombus_affinis\n",
      "https://nl.wikipedia.org/wiki/Bombus_affinis\n",
      "https://sv.wikipedia.org/wiki/Bombus_affinis\n",
      "https://vi.wikipedia.org/wiki/Bombus_affinis\n",
      "https://war.wikipedia.org/wiki/Bombus_affinis\n",
      "https://www.wikidata.org/wiki/Special:EntityPage/Q2297570#sitelinks-wikipedia\n",
      "http://www.iucnredlist.org/details/44937399/0\n",
      "https://www.biolib.cz/en/taxonimages/id764963/\n",
      "http://registrelep-sararegistry.gc.ca/default.asp?lang=En&n=0F864E45-1\n",
      "http://www.xerces.org/rusty-patched-bumble-bee/\n",
      "https://web.archive.org/web/20170615220411/http://xerces.org/rusty-patched-bumble-bee/\n",
      "http://www.mnr.gov.on.ca/stdprodconsume/groups/lr/@mnr/@species/documents/document/stdprod_086037.pdf\n",
      "https://www.bostonglobe.com/metro/2017/01/10/rusty-patched-bumblebee-designated-endangered-species/zCYNrChSt8ZXTlvLO2qZrJ/story.html\n",
      "https://doi.org/10.1007%2Fs10531-008-9340-5\n",
      "https://web.archive.org/web/20160304000902/http://www.xerces.org/wp-content/uploads/2009/03/xerces_2008_bombus_status_review.pdf\n",
      "http://www.xerces.org/wp-content/uploads/2009/03/xerces_2008_bombus_status_review.pdf\n",
      "https://doi.org/10.1016%2FS0003-3472%2887%2980159-8\n",
      "http://eprints.iisc.ac.in/8757/1/Gadagkar_1991a.pdf\n",
      "https://doi.org/10.1007%2FBF02923575\n",
      "https://doi.org/10.1002%2Fj.1537-2197.1967.tb06930.x\n",
      "https://doi.org/10.2307%2F2440374\n",
      "https://web.archive.org/web/20130823063559/http://www.xerces.org/wp-content/uploads/2013/01/Bombus-affinis-petition.pdf\n",
      "http://www.fs.fed.us/wildflowers/pollinators/documents/BumblebeeConservator-Vol2Issue1_2014.pdf\n",
      "https://species.wikimedia.org/wiki/%27%27Bombus_affinis%27%27\n",
      "https://commons.wikimedia.org/wiki/Category:Bombus_affinis\n",
      "https://www.wikidata.org/wiki/Q2297570\n",
      "https://species.wikimedia.org/wiki/Bombus_affinis\n",
      "http://www.boldsystems.org/index.php/TaxBrowser_TaxonPage?taxid=84844\n",
      "https://bugguide.net/node/view/53929\n",
      "https://www.catalogueoflife.org/data/taxon/MFD6\n",
      "https://ecos.fws.gov/ecp0/profile/speciesProfile?sId=9383\n",
      "https://eol.org/pages/1065380\n",
      "https://www.gbif.org/species/1340481\n",
      "https://www.inaturalist.org/taxa/121519\n",
      "https://www.itis.gov/servlet/SingleRpt/SingleRpt?search_topic=TSN&search_value=714782\n",
      "https://apiv3.iucnredlist.org/api/v3/taxonredirect/44937399\n",
      "https://explorer.natureserve.org/Taxon/ELEMENT_GLOBAL.2.108845/\n",
      "https://www.ncbi.nlm.nih.gov/Taxonomy/Browser/wwwtax.cgi?mode=Info&id=309941\n",
      "https://en.wikipedia.org/w/index.php?title=Bombus_affinis&oldid=1089303921\n",
      "https://foundation.wikimedia.org/wiki/Privacy_policy\n",
      "https://developer.wikimedia.org\n",
      "https://stats.wikimedia.org/#/en.wikipedia.org\n",
      "https://foundation.wikimedia.org/wiki/Cookie_statement\n",
      "https://wikimediafoundation.org/\n",
      "https://www.mediawiki.org/\n"
     ]
    }
   ],
   "source": [
    "html = requests.get(url).text\n",
    "soup = BeautifulSoup(html, 'html5lib')\n",
    "hrefs = soup.find_all(href = True)\n",
    "for h in hrefs:\n",
    "    link = h['href']\n",
    "    if link[0] == 'h':\n",
    "        print(link)"
   ]
  }
 ],
 "metadata": {
  "kernelspec": {
   "display_name": "Python 3 (ipykernel)",
   "language": "python",
   "name": "python3"
  },
  "language_info": {
   "codemirror_mode": {
    "name": "ipython",
    "version": 3
   },
   "file_extension": ".py",
   "mimetype": "text/x-python",
   "name": "python",
   "nbconvert_exporter": "python",
   "pygments_lexer": "ipython3",
   "version": "3.10.6"
  }
 },
 "nbformat": 4,
 "nbformat_minor": 5
}
