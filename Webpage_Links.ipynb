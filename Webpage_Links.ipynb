{
 "cells": [
  {
   "cell_type": "markdown",
   "id": "4f0c0b9a-2386-4e51-94b5-084a71b4db3c",
   "metadata": {},
   "source": [
    "<h1>Webpage links grabber</h1>\n",
    "This script grabs all of the links from a webpage and lists them"
   ]
  },
  {
   "cell_type": "markdown",
   "id": "d2376cb8-3f76-43e1-8d3a-c7d0af8961cd",
   "metadata": {},
   "source": [
    "<h3>Install and load required libraries</h3>"
   ]
  },
  {
   "cell_type": "code",
   "execution_count": null,
   "id": "281edacc-e05f-42a5-9893-a0a6551c5c1f",
   "metadata": {},
   "outputs": [],
   "source": [
    "#Install required libraries:\n",
    "! pip install requests\n",
    "! pip install pandas\n",
    "! pip install bs4\n",
    "! pip install html5lib"
   ]
  },
  {
   "cell_type": "code",
   "execution_count": null,
   "id": "e12e5106-a2a1-4c02-aa60-b82f9e0ca4c0",
   "metadata": {},
   "outputs": [],
   "source": [
    "#Load the required libraries:\n",
    "import requests\n",
    "import pandas as pd\n",
    "from bs4 import BeautifulSoup\n",
    "#Make sure you have also installed html5lib"
   ]
  },
  {
   "cell_type": "markdown",
   "id": "e5c94a8f-ff5c-4da0-a7a5-0acac3e15d7b",
   "metadata": {},
   "source": [
    "<h3>Put the webpage's URL here:</h3>"
   ]
  },
  {
   "cell_type": "code",
   "execution_count": null,
   "id": "f0f029bb-d29c-4800-a94c-92f3659651c6",
   "metadata": {},
   "outputs": [],
   "source": [
    "url = \"https://en.wikipedia.org/wiki/Bombus_affinis\""
   ]
  },
  {
   "cell_type": "markdown",
   "id": "01f2479f-4c06-411c-a947-82157fd8589e",
   "metadata": {},
   "source": [
    "<h3>Then run the rest of the code:</h3>"
   ]
  },
  {
   "cell_type": "code",
   "execution_count": null,
   "id": "56551a1c-f2fb-43e6-ae5f-34661f7dbfeb",
   "metadata": {},
   "outputs": [],
   "source": [
    "html = requests.get(url).text\n",
    "soup = BeautifulSoup(html, 'html5lib')\n",
    "hrefs = soup.find_all(href = True)\n",
    "for h in hrefs:\n",
    "    link = h['href']\n",
    "    if link[0] == 'h':\n",
    "        print(link)"
   ]
  }
 ],
 "metadata": {
  "kernelspec": {
   "display_name": "Python 3 (ipykernel)",
   "language": "python",
   "name": "python3"
  },
  "language_info": {
   "codemirror_mode": {
    "name": "ipython",
    "version": 3
   },
   "file_extension": ".py",
   "mimetype": "text/x-python",
   "name": "python",
   "nbconvert_exporter": "python",
   "pygments_lexer": "ipython3",
   "version": "3.10.6"
  }
 },
 "nbformat": 4,
 "nbformat_minor": 5
}
